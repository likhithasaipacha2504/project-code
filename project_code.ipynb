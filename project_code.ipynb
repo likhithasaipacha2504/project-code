{
  "cells": [
    {
      "cell_type": "markdown",
      "metadata": {
        "id": "view-in-github",
        "colab_type": "text"
      },
      "source": [
        "<a href=\"https://colab.research.google.com/github/likhithasaipacha2504/project-code/blob/main/project_code.ipynb\" target=\"_parent\"><img src=\"https://colab.research.google.com/assets/colab-badge.svg\" alt=\"Open In Colab\"/></a>"
      ]
    },
    {
      "cell_type": "code",
      "execution_count": null,
      "metadata": {
        "colab": {
          "base_uri": "https://localhost:8080/"
        },
        "id": "_epWYhuzTGDm",
        "outputId": "01e551c1-0937-4453-9e85-4f47bc276904"
      },
      "outputs": [
        {
          "data": {
            "text/plain": [
              "int"
            ]
          },
          "execution_count": 3,
          "metadata": {},
          "output_type": "execute_result"
        }
      ],
      "source": [
        "a=45\n",
        "type(a)"
      ]
    },
    {
      "cell_type": "code",
      "execution_count": null,
      "metadata": {
        "colab": {
          "base_uri": "https://localhost:8080/"
        },
        "id": "_SvQMmf-YDPG",
        "outputId": "8feac0b8-04c4-4e4f-c349-749cabe97f6f"
      },
      "outputs": [
        {
          "data": {
            "text/plain": [
              "bool"
            ]
          },
          "execution_count": 13,
          "metadata": {},
          "output_type": "execute_result"
        }
      ],
      "source": [
        "a=\"likhitha\"\n",
        "b=45\n",
        "c=18.4\n",
        "d=True\n",
        "type(a)\n",
        "type(b)\n",
        "type(c)\n",
        "type(d)"
      ]
    },
    {
      "cell_type": "code",
      "execution_count": null,
      "metadata": {
        "colab": {
          "base_uri": "https://localhost:8080/"
        },
        "id": "a-fF-VxFaorf",
        "outputId": "69400526-1f68-41ae-ab7f-c4f698ec0f38"
      },
      "outputs": [
        {
          "data": {
            "text/plain": [
              "complex"
            ]
          },
          "execution_count": 14,
          "metadata": {},
          "output_type": "execute_result"
        }
      ],
      "source": [
        "h=6+7j\n",
        "type(h)"
      ]
    },
    {
      "cell_type": "code",
      "execution_count": null,
      "metadata": {
        "colab": {
          "base_uri": "https://localhost:8080/"
        },
        "id": "qPSKedQEbY4o",
        "outputId": "53a7c860-8ffe-4c05-f28a-ac653583e1d6"
      },
      "outputs": [
        {
          "data": {
            "text/plain": [
              "7"
            ]
          },
          "execution_count": 15,
          "metadata": {},
          "output_type": "execute_result"
        }
      ],
      "source": [
        "True + 6\n"
      ]
    },
    {
      "cell_type": "code",
      "execution_count": null,
      "metadata": {
        "colab": {
          "base_uri": "https://localhost:8080/"
        },
        "id": "pXvYRtSbbc51",
        "outputId": "46aa740d-74fc-4a3d-b4cc-bb0788f462c7"
      },
      "outputs": [
        {
          "data": {
            "text/plain": [
              "6"
            ]
          },
          "execution_count": 16,
          "metadata": {},
          "output_type": "execute_result"
        }
      ],
      "source": [
        "False + 6"
      ]
    },
    {
      "cell_type": "code",
      "execution_count": null,
      "metadata": {
        "colab": {
          "base_uri": "https://localhost:8080/"
        },
        "id": "p1SWRzFJcDQP",
        "outputId": "4f1dcc75-e225-4479-dea3-9d85a2a47e90"
      },
      "outputs": [
        {
          "data": {
            "text/plain": [
              "-5"
            ]
          },
          "execution_count": 18,
          "metadata": {},
          "output_type": "execute_result"
        }
      ],
      "source": [
        "True - 6\n"
      ]
    },
    {
      "cell_type": "code",
      "execution_count": null,
      "metadata": {
        "id": "3NwR5l_53FRC"
      },
      "outputs": [],
      "source": [
        "### addition +\n",
        "### subtraction -\n",
        "### multiplication *\n",
        "### division /\n",
        "### remainder %\n",
        "### power **\n",
        "### // floor division"
      ]
    },
    {
      "cell_type": "markdown",
      "metadata": {
        "id": "vYN8i2Xi51kw"
      },
      "source": [
        "### addition +\n",
        "### subtraction -\n",
        "### multiplication *\n",
        "### division /\n",
        "### remainder %\n",
        "### power **\n",
        "### // floor division"
      ]
    },
    {
      "cell_type": "markdown",
      "metadata": {
        "id": "9KVDfor85ysW"
      },
      "source": []
    },
    {
      "cell_type": "code",
      "execution_count": null,
      "metadata": {
        "colab": {
          "base_uri": "https://localhost:8080/"
        },
        "id": "kDI-eb6k4P8Z",
        "outputId": "faa57d70-1f36-4f05-c270-15851dd4c764"
      },
      "outputs": [
        {
          "name": "stdout",
          "output_type": "stream",
          "text": [
            "67\n",
            "8\n"
          ]
        }
      ],
      "source": [
        "a = 67\n",
        "b=8\n",
        "print(a)\n",
        "print(b)"
      ]
    },
    {
      "cell_type": "code",
      "execution_count": null,
      "metadata": {
        "colab": {
          "base_uri": "https://localhost:8080/"
        },
        "id": "BADpiH1W5Y2Y",
        "outputId": "0143929b-7c9d-4298-b04f-f0db6a254d71"
      },
      "outputs": [
        {
          "data": {
            "text/plain": [
              "75"
            ]
          },
          "execution_count": 4,
          "metadata": {},
          "output_type": "execute_result"
        }
      ],
      "source": [
        " c = a+b\n",
        " c"
      ]
    },
    {
      "cell_type": "code",
      "execution_count": null,
      "metadata": {
        "colab": {
          "base_uri": "https://localhost:8080/"
        },
        "id": "vs2qp0QM5iaW",
        "outputId": "3ff653fc-db00-4e59-cf97-cf7c41304546"
      },
      "outputs": [
        {
          "data": {
            "text/plain": [
              "59"
            ]
          },
          "execution_count": 6,
          "metadata": {},
          "output_type": "execute_result"
        }
      ],
      "source": [
        "d = a-b\n",
        "d\n"
      ]
    },
    {
      "cell_type": "code",
      "execution_count": null,
      "metadata": {
        "colab": {
          "base_uri": "https://localhost:8080/"
        },
        "id": "y1HHMxwC5h-c",
        "outputId": "51c85f15-6872-4ebc-d117-6042adb116df"
      },
      "outputs": [
        {
          "data": {
            "text/plain": [
              "int"
            ]
          },
          "execution_count": 7,
          "metadata": {},
          "output_type": "execute_result"
        }
      ],
      "source": [
        "type(d)"
      ]
    },
    {
      "cell_type": "code",
      "execution_count": null,
      "metadata": {
        "colab": {
          "base_uri": "https://localhost:8080/"
        },
        "id": "JRzX8z696Oz0",
        "outputId": "6eb2f3cf-79a0-464b-9271-9fed971e9f45"
      },
      "outputs": [
        {
          "data": {
            "text/plain": [
              "536"
            ]
          },
          "execution_count": 8,
          "metadata": {},
          "output_type": "execute_result"
        }
      ],
      "source": [
        " e = a*b\n",
        " e"
      ]
    },
    {
      "cell_type": "code",
      "execution_count": null,
      "metadata": {
        "colab": {
          "base_uri": "https://localhost:8080/"
        },
        "id": "vMRaChPE6ayB",
        "outputId": "4336a64a-6f93-4dfe-f998-fc5d03ea08ef"
      },
      "outputs": [
        {
          "data": {
            "text/plain": [
              "8.375"
            ]
          },
          "execution_count": 9,
          "metadata": {},
          "output_type": "execute_result"
        }
      ],
      "source": [
        "f = a/b\n",
        "f"
      ]
    },
    {
      "cell_type": "code",
      "execution_count": null,
      "metadata": {
        "colab": {
          "base_uri": "https://localhost:8080/"
        },
        "id": "aJXpTqmt6gBJ",
        "outputId": "b3a81250-c052-45b2-8b3e-e33f29e92f24"
      },
      "outputs": [
        {
          "data": {
            "text/plain": [
              "3"
            ]
          },
          "execution_count": 10,
          "metadata": {},
          "output_type": "execute_result"
        }
      ],
      "source": [
        "g=a%b\n",
        "g"
      ]
    },
    {
      "cell_type": "code",
      "execution_count": null,
      "metadata": {
        "colab": {
          "base_uri": "https://localhost:8080/"
        },
        "id": "-zjixydV6kmn",
        "outputId": "da23bfd5-02df-4659-a901-b4c1f32cb84f"
      },
      "outputs": [
        {
          "data": {
            "text/plain": [
              "406067677556641"
            ]
          },
          "execution_count": 11,
          "metadata": {},
          "output_type": "execute_result"
        }
      ],
      "source": [
        "h=a**b\n",
        "h"
      ]
    },
    {
      "cell_type": "code",
      "execution_count": null,
      "metadata": {
        "colab": {
          "base_uri": "https://localhost:8080/"
        },
        "id": "Skr_2ZSV6pQT",
        "outputId": "d80e2fc4-7dc6-4a59-a3b5-61ca8579ccba"
      },
      "outputs": [
        {
          "data": {
            "text/plain": [
              "8"
            ]
          },
          "execution_count": 12,
          "metadata": {},
          "output_type": "execute_result"
        }
      ],
      "source": [
        "i=a//b\n",
        "i"
      ]
    },
    {
      "cell_type": "code",
      "execution_count": null,
      "metadata": {
        "colab": {
          "base_uri": "https://localhost:8080/"
        },
        "id": "Nif5_D0T6uEc",
        "outputId": "3adfde39-997d-41e7-e8df-3443889d55c8"
      },
      "outputs": [
        {
          "data": {
            "text/plain": [
              "True"
            ]
          },
          "execution_count": 27,
          "metadata": {},
          "output_type": "execute_result"
        }
      ],
      "source": [
        "x=45\n",
        "y=35\n",
        "x>y"
      ]
    },
    {
      "cell_type": "code",
      "execution_count": null,
      "metadata": {
        "colab": {
          "base_uri": "https://localhost:8080/"
        },
        "id": "KO5J7A6J8Elc",
        "outputId": "63f24e60-6c67-48a7-c289-31b0559f9a16"
      },
      "outputs": [
        {
          "data": {
            "text/plain": [
              "False"
            ]
          },
          "execution_count": 16,
          "metadata": {},
          "output_type": "execute_result"
        }
      ],
      "source": [
        "3 > 6"
      ]
    },
    {
      "cell_type": "code",
      "execution_count": null,
      "metadata": {
        "colab": {
          "base_uri": "https://localhost:8080/"
        },
        "id": "mDytK7y18UfZ",
        "outputId": "2a77952f-7cee-4140-d652-201876cfdfa6"
      },
      "outputs": [
        {
          "data": {
            "text/plain": [
              "False"
            ]
          },
          "execution_count": 20,
          "metadata": {},
          "output_type": "execute_result"
        }
      ],
      "source": [
        "x<y"
      ]
    },
    {
      "cell_type": "code",
      "execution_count": null,
      "metadata": {
        "colab": {
          "base_uri": "https://localhost:8080/"
        },
        "id": "h91HeSbC8u-q",
        "outputId": "4ab1b620-181e-45ae-cc37-08e5f8936bf0"
      },
      "outputs": [
        {
          "data": {
            "text/plain": [
              "False"
            ]
          },
          "execution_count": 21,
          "metadata": {},
          "output_type": "execute_result"
        }
      ],
      "source": [
        "x<=y"
      ]
    },
    {
      "cell_type": "code",
      "execution_count": null,
      "metadata": {
        "colab": {
          "base_uri": "https://localhost:8080/"
        },
        "id": "2Uqe7n078-gw",
        "outputId": "15881347-9300-4b60-aeda-30a1b99e70a5"
      },
      "outputs": [
        {
          "data": {
            "text/plain": [
              "True"
            ]
          },
          "execution_count": 22,
          "metadata": {},
          "output_type": "execute_result"
        }
      ],
      "source": [
        "x>=y"
      ]
    },
    {
      "cell_type": "code",
      "execution_count": null,
      "metadata": {
        "colab": {
          "base_uri": "https://localhost:8080/"
        },
        "id": "SZ8MaZaW9Aiu",
        "outputId": "30e4d7a2-3cda-4b52-e791-d224297c4504"
      },
      "outputs": [
        {
          "data": {
            "text/plain": [
              "False"
            ]
          },
          "execution_count": 23,
          "metadata": {},
          "output_type": "execute_result"
        }
      ],
      "source": [
        "x==y"
      ]
    },
    {
      "cell_type": "code",
      "execution_count": null,
      "metadata": {
        "colab": {
          "base_uri": "https://localhost:8080/"
        },
        "id": "Dojvo1qL9B59",
        "outputId": "0910118a-0cd3-4e85-e511-993d19461fcb"
      },
      "outputs": [
        {
          "data": {
            "text/plain": [
              "True"
            ]
          },
          "execution_count": 24,
          "metadata": {},
          "output_type": "execute_result"
        }
      ],
      "source": [
        "x!=y"
      ]
    },
    {
      "cell_type": "code",
      "execution_count": null,
      "metadata": {
        "colab": {
          "base_uri": "https://localhost:8080/"
        },
        "id": "tkB1MzbT9EXR",
        "outputId": "0e29e725-0644-4488-c614-586c25fbcd22"
      },
      "outputs": [
        {
          "data": {
            "text/plain": [
              "False"
            ]
          },
          "execution_count": 25,
          "metadata": {},
          "output_type": "execute_result"
        }
      ],
      "source": [
        "s='data'\n",
        "m='DATA'\n",
        "s==m"
      ]
    },
    {
      "cell_type": "code",
      "execution_count": null,
      "metadata": {
        "colab": {
          "base_uri": "https://localhost:8080/"
        },
        "id": "hhBi7Icn9ZJK",
        "outputId": "f6fa99d6-062d-4394-9be6-9a8b52cd4f76"
      },
      "outputs": [
        {
          "data": {
            "text/plain": [
              "True"
            ]
          },
          "execution_count": 26,
          "metadata": {},
          "output_type": "execute_result"
        }
      ],
      "source": [
        "s!=m"
      ]
    },
    {
      "cell_type": "code",
      "execution_count": null,
      "metadata": {
        "id": "bUTbNZWk9rGJ"
      },
      "outputs": [],
      "source": []
    },
    {
      "cell_type": "code",
      "execution_count": null,
      "metadata": {
        "id": "jun45WqY99vS"
      },
      "outputs": [],
      "source": [
        "## and\n",
        "## or\n",
        "## not"
      ]
    },
    {
      "cell_type": "markdown",
      "metadata": {
        "id": "dvEcF4FJ-DBf"
      },
      "source": [
        "## and\n",
        "## or\n",
        "## not"
      ]
    },
    {
      "cell_type": "code",
      "execution_count": null,
      "metadata": {
        "colab": {
          "base_uri": "https://localhost:8080/"
        },
        "id": "o2QN0pss-E9N",
        "outputId": "a7ffde86-a561-455f-ff7d-49decc97dd82"
      },
      "outputs": [
        {
          "data": {
            "text/plain": [
              "True"
            ]
          },
          "execution_count": 28,
          "metadata": {},
          "output_type": "execute_result"
        }
      ],
      "source": [
        "a = 90\n",
        "b = 40\n",
        "(a>b)"
      ]
    },
    {
      "cell_type": "markdown",
      "metadata": {
        "id": "FBcS-cgc99Vz"
      },
      "source": []
    },
    {
      "cell_type": "code",
      "execution_count": null,
      "metadata": {
        "colab": {
          "base_uri": "https://localhost:8080/"
        },
        "id": "Pr53GPPq-UnD",
        "outputId": "9ae41248-439c-4258-c36d-36694666c736"
      },
      "outputs": [
        {
          "data": {
            "text/plain": [
              "False"
            ]
          },
          "execution_count": 29,
          "metadata": {},
          "output_type": "execute_result"
        }
      ],
      "source": [
        "b>100"
      ]
    },
    {
      "cell_type": "code",
      "execution_count": null,
      "metadata": {
        "colab": {
          "base_uri": "https://localhost:8080/"
        },
        "id": "AunGZZPL-WXZ",
        "outputId": "66096c0b-773a-4024-8925-38281abbf181"
      },
      "outputs": [
        {
          "data": {
            "text/plain": [
              "False"
            ]
          },
          "execution_count": 30,
          "metadata": {},
          "output_type": "execute_result"
        }
      ],
      "source": [
        "(a>b) and (b>100)"
      ]
    },
    {
      "cell_type": "code",
      "execution_count": null,
      "metadata": {
        "colab": {
          "base_uri": "https://localhost:8080/"
        },
        "id": "apvkka_NCKdQ",
        "outputId": "889c5141-9e20-454c-fe28-5fa0c6427449"
      },
      "outputs": [
        {
          "name": "stdout",
          "output_type": "stream",
          "text": [
            "10\n"
          ]
        }
      ],
      "source": [
        "x = 10\n",
        "print(x)"
      ]
    },
    {
      "cell_type": "code",
      "execution_count": null,
      "metadata": {
        "id": "IO8Vsm68-a--"
      },
      "outputs": [],
      "source": [
        "import pandas as pd\n",
        "import numpy as np\n",
        "import matplotlib.pyplot as plt"
      ]
    },
    {
      "cell_type": "code",
      "execution_count": null,
      "metadata": {
        "id": "JJ_1CW-ODkMs"
      },
      "outputs": [],
      "source": []
    },
    {
      "cell_type": "code",
      "execution_count": null,
      "metadata": {
        "colab": {
          "base_uri": "https://localhost:8080/"
        },
        "id": "gc0xuv6IIqSx",
        "outputId": "d19ddf9a-4ddb-4fa0-bf0c-5afd1eca159f"
      },
      "outputs": [
        {
          "data": {
            "text/plain": [
              "45"
            ]
          },
          "execution_count": 1,
          "metadata": {},
          "output_type": "execute_result"
        }
      ],
      "source": [
        "c = [20,\"hyderabad\",45,True,False,78]\n",
        "c[2]"
      ]
    },
    {
      "cell_type": "code",
      "execution_count": null,
      "metadata": {
        "colab": {
          "base_uri": "https://localhost:8080/"
        },
        "id": "XuXgnt-AI2q5",
        "outputId": "1ee378ff-5371-4af1-9211-9f55cec6fc3d"
      },
      "outputs": [
        {
          "data": {
            "text/plain": [
              "78"
            ]
          },
          "execution_count": 2,
          "metadata": {},
          "output_type": "execute_result"
        }
      ],
      "source": [
        "c[-1]"
      ]
    },
    {
      "cell_type": "code",
      "execution_count": null,
      "metadata": {
        "colab": {
          "base_uri": "https://localhost:8080/"
        },
        "id": "17yn4gMUI8WJ",
        "outputId": "b3d82003-c44d-4ede-fd27-0abd668b12f7"
      },
      "outputs": [
        {
          "data": {
            "text/plain": [
              "[False]"
            ]
          },
          "execution_count": 3,
          "metadata": {},
          "output_type": "execute_result"
        }
      ],
      "source": [
        "c = [20,\"hyderabad\",45,True,False,78]\n",
        "c[4:5]"
      ]
    },
    {
      "cell_type": "code",
      "execution_count": null,
      "metadata": {
        "colab": {
          "base_uri": "https://localhost:8080/"
        },
        "id": "5TfUqyreJVm1",
        "outputId": "accf236c-b4c7-49f9-91ef-457f47d000dc"
      },
      "outputs": [
        {
          "data": {
            "text/plain": [
              "['hyderabad', True, 78]"
            ]
          },
          "execution_count": 4,
          "metadata": {},
          "output_type": "execute_result"
        }
      ],
      "source": [
        "c[1:7:2]"
      ]
    },
    {
      "cell_type": "code",
      "execution_count": null,
      "metadata": {
        "colab": {
          "base_uri": "https://localhost:8080/"
        },
        "id": "S3YoyLyXJY_Z",
        "outputId": "5f23006a-bdc4-4c82-a3ae-d0d6866cd52c"
      },
      "outputs": [
        {
          "data": {
            "text/plain": [
              "[45, True, False, 78]"
            ]
          },
          "execution_count": 5,
          "metadata": {},
          "output_type": "execute_result"
        }
      ],
      "source": [
        "c[2: ]"
      ]
    },
    {
      "cell_type": "code",
      "execution_count": null,
      "metadata": {
        "colab": {
          "base_uri": "https://localhost:8080/"
        },
        "id": "0R-dCQdkJbdR",
        "outputId": "ac8349e5-289c-4fe0-ba4d-86bbbecd432d"
      },
      "outputs": [
        {
          "data": {
            "text/plain": [
              "['hyderabad', 45, True, False]"
            ]
          },
          "execution_count": 6,
          "metadata": {},
          "output_type": "execute_result"
        }
      ],
      "source": [
        "c[1:5]"
      ]
    },
    {
      "cell_type": "code",
      "execution_count": null,
      "metadata": {
        "colab": {
          "base_uri": "https://localhost:8080/"
        },
        "id": "UXBhGsW3Jeww",
        "outputId": "39ea1f3e-f814-47b6-87f6-958ac426ca45"
      },
      "outputs": [
        {
          "data": {
            "text/plain": [
              "[78, False, True]"
            ]
          },
          "execution_count": 7,
          "metadata": {},
          "output_type": "execute_result"
        }
      ],
      "source": [
        "c[6:2:-1]"
      ]
    },
    {
      "cell_type": "code",
      "execution_count": null,
      "metadata": {
        "colab": {
          "base_uri": "https://localhost:8080/"
        },
        "id": "4No_8VlgJ4EZ",
        "outputId": "154b0816-7249-4fb3-add9-493f7adc0415"
      },
      "outputs": [
        {
          "data": {
            "text/plain": [
              "[20, 'hyderabad', 45, True, False, 78]"
            ]
          },
          "execution_count": 8,
          "metadata": {},
          "output_type": "execute_result"
        }
      ],
      "source": [
        "c"
      ]
    },
    {
      "cell_type": "code",
      "execution_count": null,
      "metadata": {
        "id": "ZF5NzeQwJ7HC"
      },
      "outputs": [],
      "source": [
        "\n"
      ]
    },
    {
      "cell_type": "markdown",
      "metadata": {
        "id": "_PVu-9fsKQ61"
      },
      "source": [
        "#insert\n",
        "#append\n",
        "#extend\n",
        "#pop\n",
        "#remove\n",
        "#clear\n",
        "#count"
      ]
    },
    {
      "cell_type": "code",
      "execution_count": null,
      "metadata": {
        "colab": {
          "base_uri": "https://localhost:8080/"
        },
        "id": "iadzjB1oKHdV",
        "outputId": "c59bed3c-e090-4f48-ae61-2367f6421651"
      },
      "outputs": [
        {
          "data": {
            "text/plain": [
              "[20, 'hyderabad', 45, True, False, 78]"
            ]
          },
          "execution_count": 9,
          "metadata": {},
          "output_type": "execute_result"
        }
      ],
      "source": [
        "c"
      ]
    },
    {
      "cell_type": "code",
      "execution_count": null,
      "metadata": {
        "colab": {
          "base_uri": "https://localhost:8080/"
        },
        "id": "fqWU4I_BKeYc",
        "outputId": "ddd0bbea-0dc6-42e0-babe-801864b28c7d"
      },
      "outputs": [
        {
          "data": {
            "text/plain": [
              "[20, 'hyderabad', 45, True, False, 78, 'India']"
            ]
          },
          "execution_count": 10,
          "metadata": {},
          "output_type": "execute_result"
        }
      ],
      "source": [
        "c.append(\"India\")\n",
        "c"
      ]
    },
    {
      "cell_type": "code",
      "execution_count": null,
      "metadata": {
        "colab": {
          "base_uri": "https://localhost:8080/"
        },
        "id": "l05LeOWkKqIG",
        "outputId": "3fcbbda8-0707-4ad7-d697-2b34cdb8e6a9"
      },
      "outputs": [
        {
          "data": {
            "text/plain": [
              "7"
            ]
          },
          "execution_count": 11,
          "metadata": {},
          "output_type": "execute_result"
        }
      ],
      "source": [
        "len(c)"
      ]
    },
    {
      "cell_type": "code",
      "execution_count": null,
      "metadata": {
        "colab": {
          "base_uri": "https://localhost:8080/"
        },
        "id": "NIYA3i_2Ks9s",
        "outputId": "6af7a9e9-44a2-43f1-e871-7d2e9057915d"
      },
      "outputs": [
        {
          "data": {
            "text/plain": [
              "45"
            ]
          },
          "execution_count": 12,
          "metadata": {},
          "output_type": "execute_result"
        }
      ],
      "source": [
        "c.pop(2)"
      ]
    },
    {
      "cell_type": "code",
      "execution_count": null,
      "metadata": {
        "colab": {
          "base_uri": "https://localhost:8080/"
        },
        "id": "bANA_igiMCRA",
        "outputId": "737c0eca-306f-4e54-a94f-bf450534f523"
      },
      "outputs": [
        {
          "data": {
            "text/plain": [
              "[20, 'hyderabad', True, False, 78, 'India']"
            ]
          },
          "execution_count": 13,
          "metadata": {},
          "output_type": "execute_result"
        }
      ],
      "source": [
        "c"
      ]
    },
    {
      "cell_type": "code",
      "execution_count": null,
      "metadata": {
        "colab": {
          "base_uri": "https://localhost:8080/"
        },
        "id": "_a4QRSGvMEw4",
        "outputId": "41241268-33db-4eeb-ac21-a0d25920f0fe"
      },
      "outputs": [
        {
          "data": {
            "text/plain": [
              "[20, 'hyderabad', True, False, 78, 'India', 'likhitha']"
            ]
          },
          "execution_count": 15,
          "metadata": {},
          "output_type": "execute_result"
        }
      ],
      "source": [
        "c.insert(7,\"likhitha\")\n",
        "c"
      ]
    },
    {
      "cell_type": "code",
      "execution_count": null,
      "metadata": {
        "colab": {
          "base_uri": "https://localhost:8080/"
        },
        "id": "c5XxWVFEMfto",
        "outputId": "1795a2f4-aef4-4413-8076-1b534b026e80"
      },
      "outputs": [
        {
          "data": {
            "text/plain": [
              "[20,\n",
              " 'hyderabad',\n",
              " True,\n",
              " False,\n",
              " 78,\n",
              " 'India',\n",
              " 'likhitha',\n",
              " 'c',\n",
              " 'h',\n",
              " 'i',\n",
              " 'n',\n",
              " 'n',\n",
              " 'u']"
            ]
          },
          "execution_count": 16,
          "metadata": {},
          "output_type": "execute_result"
        }
      ],
      "source": [
        "c.extend(\"chinnu\")\n",
        "c"
      ]
    },
    {
      "cell_type": "code",
      "execution_count": null,
      "metadata": {
        "colab": {
          "base_uri": "https://localhost:8080/"
        },
        "id": "24wmF2BfMxwQ",
        "outputId": "5247bc27-37a5-4d3c-debb-384fe637dc9d"
      },
      "outputs": [
        {
          "data": {
            "text/plain": [
              "[20, 'hyderabad', False, 78, 'India', 'likhitha', 'c', 'h', 'i', 'n', 'n', 'u']"
            ]
          },
          "execution_count": 17,
          "metadata": {},
          "output_type": "execute_result"
        },
        {
          "data": {
            "text/plain": [
              "['hyderabad', False, 78, 'India', 'likhitha', 'c', 'h', 'i', 'n', 'n', 'u']"
            ]
          },
          "execution_count": 18,
          "metadata": {},
          "output_type": "execute_result"
        }
      ],
      "source": [
        "c.remove(20)\n",
        "c"
      ]
    },
    {
      "cell_type": "code",
      "execution_count": null,
      "metadata": {
        "colab": {
          "base_uri": "https://localhost:8080/"
        },
        "id": "a78K_Is3NMrg",
        "outputId": "5035c46f-6bf7-48d2-c486-9806df2a2b35"
      },
      "outputs": [
        {
          "data": {
            "text/plain": [
              "1"
            ]
          },
          "execution_count": 19,
          "metadata": {},
          "output_type": "execute_result"
        }
      ],
      "source": [
        "c.count(78)"
      ]
    },
    {
      "cell_type": "code",
      "execution_count": null,
      "metadata": {
        "id": "Dn1qoWDbNdbj"
      },
      "outputs": [],
      "source": [
        "c.clear()"
      ]
    },
    {
      "cell_type": "code",
      "execution_count": null,
      "metadata": {
        "colab": {
          "base_uri": "https://localhost:8080/"
        },
        "id": "bDG-QWylNj2-",
        "outputId": "48564015-4c81-4bc5-efcc-f744f29b0ec6"
      },
      "outputs": [
        {
          "data": {
            "text/plain": [
              "[1, 18, 5, 4, 2]"
            ]
          },
          "execution_count": 21,
          "metadata": {},
          "output_type": "execute_result"
        }
      ],
      "source": [
        "d =[1,18,5,4,2]\n",
        "d"
      ]
    },
    {
      "cell_type": "code",
      "execution_count": null,
      "metadata": {
        "colab": {
          "base_uri": "https://localhost:8080/",
          "height": 146
        },
        "id": "qug_A4TXNuQa",
        "outputId": "e4124e5a-b5a3-478f-e532-a3ff50f51714"
      },
      "outputs": [
        {
          "ename": "AttributeError",
          "evalue": "'list' object has no attribute 'delete'",
          "output_type": "error",
          "traceback": [
            "\u001b[0;31m---------------------------------------------------------------------------\u001b[0m",
            "\u001b[0;31mAttributeError\u001b[0m                            Traceback (most recent call last)",
            "\u001b[0;32m<ipython-input-25-f54012fd0a20>\u001b[0m in \u001b[0;36m<cell line: 1>\u001b[0;34m()\u001b[0m\n\u001b[0;32m----> 1\u001b[0;31m \u001b[0md\u001b[0m\u001b[0;34m.\u001b[0m\u001b[0mdelete\u001b[0m\u001b[0;34m(\u001b[0m\u001b[0;36m1\u001b[0m\u001b[0;34m)\u001b[0m\u001b[0;34m\u001b[0m\u001b[0;34m\u001b[0m\u001b[0m\n\u001b[0m",
            "\u001b[0;31mAttributeError\u001b[0m: 'list' object has no attribute 'delete'"
          ]
        }
      ],
      "source": [
        "d.delete()"
      ]
    },
    {
      "cell_type": "code",
      "execution_count": null,
      "metadata": {
        "colab": {
          "base_uri": "https://localhost:8080/"
        },
        "id": "8fuJn7EhNzOU",
        "outputId": "00ad1c7e-8280-4521-edab-2620be0d3a36"
      },
      "outputs": [
        {
          "data": {
            "text/plain": [
              "[1, 18, 5, 4, 2]"
            ]
          },
          "execution_count": 26,
          "metadata": {},
          "output_type": "execute_result"
        },
        {
          "data": {
            "text/plain": [
              "[1, 18, 5, 4, 2]"
            ]
          },
          "execution_count": 27,
          "metadata": {},
          "output_type": "execute_result"
        }
      ],
      "source": [
        "d"
      ]
    },
    {
      "cell_type": "code",
      "execution_count": null,
      "metadata": {
        "colab": {
          "base_uri": "https://localhost:8080/"
        },
        "id": "ZKPxRHMSPdGo",
        "outputId": "9fc30c2f-3ac8-4e96-9901-0adb2c90f86c"
      },
      "outputs": [
        {
          "output_type": "execute_result",
          "data": {
            "text/plain": [
              "(90, 18, 4)"
            ]
          },
          "metadata": {},
          "execution_count": 1
        }
      ],
      "source": [
        "h = (90,18,4)\n",
        "h"
      ]
    },
    {
      "cell_type": "code",
      "source": [
        "h.count(90)"
      ],
      "metadata": {
        "colab": {
          "base_uri": "https://localhost:8080/"
        },
        "id": "40jp2mW4SOSd",
        "outputId": "fdf4931b-1a76-49c6-b52c-2d557646887d"
      },
      "execution_count": null,
      "outputs": [
        {
          "output_type": "execute_result",
          "data": {
            "text/plain": [
              "1"
            ]
          },
          "metadata": {},
          "execution_count": 2
        }
      ]
    },
    {
      "cell_type": "code",
      "source": [
        "type(h)"
      ],
      "metadata": {
        "colab": {
          "base_uri": "https://localhost:8080/"
        },
        "id": "fXUESqo3SUef",
        "outputId": "d3be1a4c-273e-44c1-e5c7-94d836e952fa"
      },
      "execution_count": null,
      "outputs": [
        {
          "output_type": "execute_result",
          "data": {
            "text/plain": [
              "tuple"
            ]
          },
          "metadata": {},
          "execution_count": 3
        }
      ]
    },
    {
      "cell_type": "code",
      "source": [
        "## only we have two operations in tuple\n",
        "#index\n",
        "#count"
      ],
      "metadata": {
        "id": "axjcmCyjSWf6"
      },
      "execution_count": null,
      "outputs": []
    },
    {
      "cell_type": "code",
      "source": [
        "h.index(4)"
      ],
      "metadata": {
        "colab": {
          "base_uri": "https://localhost:8080/"
        },
        "id": "mRJAt0cLSfS3",
        "outputId": "21da28f1-36f9-4089-b3ed-556383dcb72d"
      },
      "execution_count": null,
      "outputs": [
        {
          "output_type": "execute_result",
          "data": {
            "text/plain": [
              "2"
            ]
          },
          "metadata": {},
          "execution_count": 4
        }
      ]
    },
    {
      "cell_type": "code",
      "source": [
        "s = {34,56,7,90}\n",
        "s"
      ],
      "metadata": {
        "colab": {
          "base_uri": "https://localhost:8080/"
        },
        "id": "YpSO-Q2bSmU4",
        "outputId": "f408395a-a45a-45c1-cf29-045c5d4df3ce"
      },
      "execution_count": null,
      "outputs": [
        {
          "output_type": "execute_result",
          "data": {
            "text/plain": [
              "{7, 34, 56, 90}"
            ]
          },
          "metadata": {},
          "execution_count": 15
        }
      ]
    },
    {
      "cell_type": "code",
      "source": [
        "type(s)"
      ],
      "metadata": {
        "colab": {
          "base_uri": "https://localhost:8080/"
        },
        "id": "y62_8mRUSrh6",
        "outputId": "c2cd28e5-6ae4-4003-ef0e-d8fb16c9d36f"
      },
      "execution_count": null,
      "outputs": [
        {
          "output_type": "execute_result",
          "data": {
            "text/plain": [
              "set"
            ]
          },
          "metadata": {},
          "execution_count": 6
        }
      ]
    },
    {
      "cell_type": "code",
      "source": [
        "## add\n",
        "##remove\n",
        "##difference\n",
        "##intersection\n",
        "##union\n",
        "##symmetric difference\n"
      ],
      "metadata": {
        "id": "-KRUCIIaSuMy"
      },
      "execution_count": null,
      "outputs": []
    },
    {
      "cell_type": "code",
      "source": [
        "s.add(18)"
      ],
      "metadata": {
        "id": "1stsbjTLS0nj"
      },
      "execution_count": null,
      "outputs": []
    },
    {
      "cell_type": "code",
      "source": [
        "s"
      ],
      "metadata": {
        "colab": {
          "base_uri": "https://localhost:8080/"
        },
        "id": "G5Psz_8nS2Q2",
        "outputId": "7169a6e4-ef47-41e3-faeb-1d83dd6645e1"
      },
      "execution_count": null,
      "outputs": [
        {
          "output_type": "execute_result",
          "data": {
            "text/plain": [
              "{7, 18, 34, 56}"
            ]
          },
          "metadata": {},
          "execution_count": 8
        }
      ]
    },
    {
      "cell_type": "code",
      "source": [
        "s.remove(34)\n"
      ],
      "metadata": {
        "id": "hp9JZhgIS4sR"
      },
      "execution_count": null,
      "outputs": []
    },
    {
      "cell_type": "code",
      "source": [
        "s\n"
      ],
      "metadata": {
        "colab": {
          "base_uri": "https://localhost:8080/"
        },
        "id": "WM0ixJMrS-cx",
        "outputId": "bfb3582a-b879-42ea-d5cf-2d9292a7522a"
      },
      "execution_count": null,
      "outputs": [
        {
          "output_type": "execute_result",
          "data": {
            "text/plain": [
              "{7, 56, 90}"
            ]
          },
          "metadata": {},
          "execution_count": 20
        }
      ]
    },
    {
      "cell_type": "code",
      "source": [
        " y = {45,79,90,234}\n",
        " y"
      ],
      "metadata": {
        "colab": {
          "base_uri": "https://localhost:8080/"
        },
        "id": "qfdmW6foS_C5",
        "outputId": "a3409280-1949-4f5c-af02-1ada186f008b"
      },
      "execution_count": null,
      "outputs": [
        {
          "output_type": "execute_result",
          "data": {
            "text/plain": [
              "{45, 79, 90, 234}"
            ]
          },
          "metadata": {},
          "execution_count": 12
        }
      ]
    },
    {
      "cell_type": "code",
      "source": [
        "s.difference(y)"
      ],
      "metadata": {
        "colab": {
          "base_uri": "https://localhost:8080/"
        },
        "id": "_-YZUn9QTObn",
        "outputId": "149a153f-f868-4fb0-c41f-c2ff23b7cf20"
      },
      "execution_count": null,
      "outputs": [
        {
          "output_type": "execute_result",
          "data": {
            "text/plain": [
              "{7, 18, 56}"
            ]
          },
          "metadata": {},
          "execution_count": 13
        }
      ]
    },
    {
      "cell_type": "code",
      "source": [
        "y.difference(s)"
      ],
      "metadata": {
        "colab": {
          "base_uri": "https://localhost:8080/"
        },
        "id": "wk1klTbeUYnc",
        "outputId": "f77576a5-2ef5-43bd-80e3-a2ce8598c5d5"
      },
      "execution_count": null,
      "outputs": [
        {
          "output_type": "execute_result",
          "data": {
            "text/plain": [
              "{45, 79, 234}"
            ]
          },
          "metadata": {},
          "execution_count": 21
        }
      ]
    },
    {
      "cell_type": "code",
      "source": [
        "#to find same elements\n",
        "s.intersection(y)"
      ],
      "metadata": {
        "colab": {
          "base_uri": "https://localhost:8080/"
        },
        "id": "UObiZUOjTXRs",
        "outputId": "1ec9fe47-6ac1-40aa-994c-93710fc90a1f"
      },
      "execution_count": null,
      "outputs": [
        {
          "output_type": "execute_result",
          "data": {
            "text/plain": [
              "{90}"
            ]
          },
          "metadata": {},
          "execution_count": 16
        }
      ]
    },
    {
      "cell_type": "code",
      "source": [
        "y.intersection(s)"
      ],
      "metadata": {
        "colab": {
          "base_uri": "https://localhost:8080/"
        },
        "id": "EhGaXV6sTjgS",
        "outputId": "4598c604-c029-4649-dcc6-1193105cba5d"
      },
      "execution_count": null,
      "outputs": [
        {
          "output_type": "execute_result",
          "data": {
            "text/plain": [
              "{90}"
            ]
          },
          "metadata": {},
          "execution_count": 17
        }
      ]
    },
    {
      "cell_type": "code",
      "source": [
        "#union\n",
        "s.union(y)\n"
      ],
      "metadata": {
        "colab": {
          "base_uri": "https://localhost:8080/"
        },
        "id": "-jKIGfOyTsDq",
        "outputId": "0eeaa01b-c451-401b-81b2-cc41d2449628"
      },
      "execution_count": null,
      "outputs": [
        {
          "output_type": "execute_result",
          "data": {
            "text/plain": [
              "{7, 34, 45, 56, 79, 90, 234}"
            ]
          },
          "metadata": {},
          "execution_count": 18
        }
      ]
    },
    {
      "cell_type": "code",
      "source": [
        "s.symmetric_difference(y)"
      ],
      "metadata": {
        "colab": {
          "base_uri": "https://localhost:8080/"
        },
        "id": "KabVyUZxT0Qk",
        "outputId": "6370fb7a-99ad-4d3d-8406-f9ae4e4096ec"
      },
      "execution_count": null,
      "outputs": [
        {
          "output_type": "execute_result",
          "data": {
            "text/plain": [
              "{7, 45, 56, 79, 234}"
            ]
          },
          "metadata": {},
          "execution_count": 22
        }
      ]
    },
    {
      "cell_type": "code",
      "source": [
        "a = {54,67,89,76}\n",
        "a"
      ],
      "metadata": {
        "colab": {
          "base_uri": "https://localhost:8080/"
        },
        "id": "VuZeeosWU2Q-",
        "outputId": "c737501b-9b20-4ac5-a085-681eee64a918"
      },
      "execution_count": null,
      "outputs": [
        {
          "output_type": "execute_result",
          "data": {
            "text/plain": [
              "{54, 67, 76, 89}"
            ]
          },
          "metadata": {},
          "execution_count": 23
        }
      ]
    },
    {
      "cell_type": "code",
      "source": [
        "d=list(a)\n",
        "d"
      ],
      "metadata": {
        "colab": {
          "base_uri": "https://localhost:8080/"
        },
        "id": "4B9GKNutW2Ka",
        "outputId": "d99819c9-fdfa-4d7a-a413-d1022c381746"
      },
      "execution_count": null,
      "outputs": [
        {
          "output_type": "execute_result",
          "data": {
            "text/plain": [
              "[89, 67, 76, 54]"
            ]
          },
          "metadata": {},
          "execution_count": 24
        }
      ]
    },
    {
      "cell_type": "code",
      "source": [
        "d.append(40)"
      ],
      "metadata": {
        "id": "w7snJkRUW5gM"
      },
      "execution_count": null,
      "outputs": []
    },
    {
      "cell_type": "code",
      "source": [
        "a=tuple(d)\n",
        "a"
      ],
      "metadata": {
        "colab": {
          "base_uri": "https://localhost:8080/"
        },
        "id": "80JPUgEiXBD1",
        "outputId": "930e544f-cc33-4d68-c8f7-5e04eece6669"
      },
      "execution_count": null,
      "outputs": [
        {
          "output_type": "execute_result",
          "data": {
            "text/plain": [
              "(89, 67, 76, 54, 40)"
            ]
          },
          "metadata": {},
          "execution_count": 28
        }
      ]
    },
    {
      "cell_type": "code",
      "source": [
        "c = {57,48,18,4}\n",
        "c"
      ],
      "metadata": {
        "colab": {
          "base_uri": "https://localhost:8080/"
        },
        "id": "M141M03HXDXf",
        "outputId": "e4c8c0a1-bc29-4c7c-e034-6c76afdd3ce9"
      },
      "execution_count": null,
      "outputs": [
        {
          "output_type": "execute_result",
          "data": {
            "text/plain": [
              "{4, 18, 48, 57}"
            ]
          },
          "metadata": {},
          "execution_count": 29
        }
      ]
    },
    {
      "cell_type": "code",
      "source": [
        "c.add(44)"
      ],
      "metadata": {
        "id": "sYsbi2pUXS-H"
      },
      "execution_count": null,
      "outputs": []
    },
    {
      "cell_type": "code",
      "source": [
        "c"
      ],
      "metadata": {
        "colab": {
          "base_uri": "https://localhost:8080/"
        },
        "id": "Q7l5rhZsXWiD",
        "outputId": "1499ce41-c4f8-45ea-8cd0-b743c71b42b5"
      },
      "execution_count": null,
      "outputs": [
        {
          "output_type": "execute_result",
          "data": {
            "text/plain": [
              "{4, 18, 44, 48, 57}"
            ]
          },
          "metadata": {},
          "execution_count": 31
        }
      ]
    },
    {
      "cell_type": "code",
      "source": [
        "c.remove(57)"
      ],
      "metadata": {
        "id": "rJdBK8H5XXwz"
      },
      "execution_count": null,
      "outputs": []
    },
    {
      "cell_type": "code",
      "source": [
        "c"
      ],
      "metadata": {
        "colab": {
          "base_uri": "https://localhost:8080/"
        },
        "id": "s9-iFMyYXdoz",
        "outputId": "42daa46f-2eab-4b56-aab3-4c0cc1a1638b"
      },
      "execution_count": null,
      "outputs": [
        {
          "output_type": "execute_result",
          "data": {
            "text/plain": [
              "{4, 18, 44, 48}"
            ]
          },
          "metadata": {},
          "execution_count": 33
        }
      ]
    },
    {
      "cell_type": "code",
      "source": [
        "a = float(input(\"Enter marks for Subject 1: \"))\n",
        "b = float(input(\"Enter marks for Subject 2: \"))\n",
        "c = float(input(\"Enter marks for Subject 3: \"))\n",
        "\n",
        "avg = (a + b + c) / 3\n",
        "\n",
        "if avg >= 90:\n",
        "    result = \"A\"\n",
        "elif 80 <= avg < 90:\n",
        "    result = \"B\"\n",
        "elif 70 <= avg < 80:\n",
        "    result = \"C\"\n",
        "else:\n",
        "    result = \"Fail\"\n",
        "\n",
        "print(f\"Grade: {result}\")"
      ],
      "metadata": {
        "colab": {
          "base_uri": "https://localhost:8080/"
        },
        "id": "90Dh1_HwXeEn",
        "outputId": "f0e54662-71e7-49dc-8d1d-1631cb936ae6"
      },
      "execution_count": null,
      "outputs": [
        {
          "output_type": "stream",
          "name": "stdout",
          "text": [
            "Enter marks for Subject 1: 95\n",
            "Enter marks for Subject 2: 50\n",
            "Enter marks for Subject 3: 45\n",
            "Grade: Fail\n"
          ]
        }
      ]
    },
    {
      "cell_type": "code",
      "source": [
        "#dictionary\n",
        "#get\n",
        "#update\n",
        "#delete\n",
        "#add"
      ],
      "metadata": {
        "id": "mveNe9uMZ8O0"
      },
      "execution_count": null,
      "outputs": []
    },
    {
      "cell_type": "code",
      "source": [
        "d = {'a': 4,'b': 7,'c': 2}\n",
        "d"
      ],
      "metadata": {
        "colab": {
          "base_uri": "https://localhost:8080/"
        },
        "id": "4DYsSnvjL3XO",
        "outputId": "0dac98b6-7f0f-48fa-abdc-0480582fad71"
      },
      "execution_count": null,
      "outputs": [
        {
          "output_type": "execute_result",
          "data": {
            "text/plain": [
              "{'a': 4, 'b': 7, 'c': 2}"
            ]
          },
          "metadata": {},
          "execution_count": 2
        }
      ]
    },
    {
      "cell_type": "code",
      "source": [
        "type(d)"
      ],
      "metadata": {
        "colab": {
          "base_uri": "https://localhost:8080/"
        },
        "id": "2hkXn76DL_9A",
        "outputId": "94e55363-b297-435f-f79a-8a6747703bd7"
      },
      "execution_count": null,
      "outputs": [
        {
          "output_type": "execute_result",
          "data": {
            "text/plain": [
              "dict"
            ]
          },
          "metadata": {},
          "execution_count": 3
        }
      ]
    },
    {
      "cell_type": "code",
      "source": [
        "l=[4,7,2]\n",
        "l"
      ],
      "metadata": {
        "colab": {
          "base_uri": "https://localhost:8080/"
        },
        "id": "WZdWKzMqMCXK",
        "outputId": "d2bf1839-4637-4611-c04b-7ca93ff4cf8b"
      },
      "execution_count": null,
      "outputs": [
        {
          "output_type": "execute_result",
          "data": {
            "text/plain": [
              "[4, 7, 2]"
            ]
          },
          "metadata": {},
          "execution_count": 4
        }
      ]
    },
    {
      "cell_type": "code",
      "source": [
        "d['a']"
      ],
      "metadata": {
        "colab": {
          "base_uri": "https://localhost:8080/"
        },
        "id": "FaWwY-8GMGhP",
        "outputId": "42dad99a-e114-40d9-8b29-1d4f3c58f715"
      },
      "execution_count": null,
      "outputs": [
        {
          "output_type": "execute_result",
          "data": {
            "text/plain": [
              "4"
            ]
          },
          "metadata": {},
          "execution_count": 5
        }
      ]
    },
    {
      "cell_type": "code",
      "source": [
        "#add\n",
        "d['b']=184"
      ],
      "metadata": {
        "id": "I5ayaoIQMI5V"
      },
      "execution_count": null,
      "outputs": []
    },
    {
      "cell_type": "code",
      "source": [
        "d"
      ],
      "metadata": {
        "colab": {
          "base_uri": "https://localhost:8080/"
        },
        "id": "6zydG1myMNlC",
        "outputId": "c021dc5e-a232-4f66-83ae-b0f1e5a2c43b"
      },
      "execution_count": null,
      "outputs": [
        {
          "output_type": "execute_result",
          "data": {
            "text/plain": [
              "{'a': 4, 'b': 184, 'c': 2}"
            ]
          },
          "metadata": {},
          "execution_count": 7
        }
      ]
    },
    {
      "cell_type": "code",
      "source": [
        "d.get('c')"
      ],
      "metadata": {
        "colab": {
          "base_uri": "https://localhost:8080/"
        },
        "id": "J2cYk3j_MP85",
        "outputId": "e3852814-ff28-461c-d1da-e874dad2f506"
      },
      "execution_count": null,
      "outputs": [
        {
          "output_type": "execute_result",
          "data": {
            "text/plain": [
              "2"
            ]
          },
          "metadata": {},
          "execution_count": 8
        }
      ]
    },
    {
      "cell_type": "code",
      "source": [
        "d.update({'d': 18})"
      ],
      "metadata": {
        "id": "0j85-m6PMS2W"
      },
      "execution_count": null,
      "outputs": []
    },
    {
      "cell_type": "code",
      "source": [
        "d"
      ],
      "metadata": {
        "colab": {
          "base_uri": "https://localhost:8080/"
        },
        "id": "GVgsPAGFMXLr",
        "outputId": "7e7fa9eb-25f0-4954-9715-3d098e8a8173"
      },
      "execution_count": null,
      "outputs": [
        {
          "output_type": "execute_result",
          "data": {
            "text/plain": [
              "{'a': 4, 'b': 184, 'c': 2, 'd': 18}"
            ]
          },
          "metadata": {},
          "execution_count": 10
        }
      ]
    },
    {
      "cell_type": "code",
      "source": [
        "del d['c']"
      ],
      "metadata": {
        "id": "u_DLCTkIMYZl"
      },
      "execution_count": null,
      "outputs": []
    },
    {
      "cell_type": "code",
      "source": [
        "d"
      ],
      "metadata": {
        "colab": {
          "base_uri": "https://localhost:8080/"
        },
        "id": "T7auEpoJMbBY",
        "outputId": "d91cc709-b5d2-4a2d-b2c8-fb44447c7d0b"
      },
      "execution_count": null,
      "outputs": [
        {
          "output_type": "execute_result",
          "data": {
            "text/plain": [
              "{'a': 4, 'b': 184, 'd': 18}"
            ]
          },
          "metadata": {},
          "execution_count": 12
        }
      ]
    },
    {
      "cell_type": "code",
      "source": [
        "d.update({'e':'chinnu'})"
      ],
      "metadata": {
        "id": "Px2Y8c3vMb8d"
      },
      "execution_count": null,
      "outputs": []
    },
    {
      "cell_type": "code",
      "source": [
        "d"
      ],
      "metadata": {
        "colab": {
          "base_uri": "https://localhost:8080/"
        },
        "id": "gMOShvrwMmGT",
        "outputId": "162fdd43-a728-48c1-b2a7-7555a1456ce5"
      },
      "execution_count": null,
      "outputs": [
        {
          "output_type": "execute_result",
          "data": {
            "text/plain": [
              "{'a': 4, 'b': 184, 'd': 18, 'e': 'chinnu'}"
            ]
          },
          "metadata": {},
          "execution_count": 14
        }
      ]
    },
    {
      "cell_type": "code",
      "source": [
        "d.update({'e':'chinnulucky'})"
      ],
      "metadata": {
        "id": "5jzlPQcHMnWe"
      },
      "execution_count": null,
      "outputs": []
    },
    {
      "cell_type": "code",
      "source": [
        "d"
      ],
      "metadata": {
        "colab": {
          "base_uri": "https://localhost:8080/"
        },
        "id": "Qc9JDiknMt5J",
        "outputId": "856bddc0-c660-48ad-f35a-c2d8483146ad"
      },
      "execution_count": null,
      "outputs": [
        {
          "output_type": "execute_result",
          "data": {
            "text/plain": [
              "{'a': 4, 'b': 184, 'd': 18, 'e': 'chinnulucky'}"
            ]
          },
          "metadata": {},
          "execution_count": 16
        }
      ]
    },
    {
      "cell_type": "code",
      "source": [
        "#for one key we can assign multiple values but values cannot be assigened to multiple keys\n",
        "d['b']=[184,4]"
      ],
      "metadata": {
        "id": "NBLw7zO5Mujh"
      },
      "execution_count": null,
      "outputs": []
    },
    {
      "cell_type": "code",
      "source": [
        "d"
      ],
      "metadata": {
        "colab": {
          "base_uri": "https://localhost:8080/"
        },
        "id": "OmORWHVhM9Du",
        "outputId": "d7c55989-f646-4027-866b-ea098c025304"
      },
      "execution_count": null,
      "outputs": [
        {
          "output_type": "execute_result",
          "data": {
            "text/plain": [
              "{'a': 4, 'b': [184, 4], 'd': 18, 'e': 'chinnulucky'}"
            ]
          },
          "metadata": {},
          "execution_count": 18
        }
      ]
    },
    {
      "cell_type": "code",
      "source": [
        "type(d['b'])"
      ],
      "metadata": {
        "colab": {
          "base_uri": "https://localhost:8080/"
        },
        "id": "bjRAe-mgM9qp",
        "outputId": "df45cebd-db9f-418e-ba6c-c53afdd8ec93"
      },
      "execution_count": null,
      "outputs": [
        {
          "output_type": "execute_result",
          "data": {
            "text/plain": [
              "list"
            ]
          },
          "metadata": {},
          "execution_count": 19
        }
      ]
    },
    {
      "cell_type": "code",
      "source": [
        "d['b'].count"
      ],
      "metadata": {
        "colab": {
          "base_uri": "https://localhost:8080/"
        },
        "id": "Zux49EGLM_8G",
        "outputId": "540e5d6f-3ca3-490e-84b3-0ee407a8d7f5"
      },
      "execution_count": null,
      "outputs": [
        {
          "output_type": "execute_result",
          "data": {
            "text/plain": [
              "<function list.count(value, /)>"
            ]
          },
          "metadata": {},
          "execution_count": 20
        }
      ]
    },
    {
      "cell_type": "code",
      "source": [
        "d['b'].append(184)"
      ],
      "metadata": {
        "id": "tT3ZyXMwNDIz"
      },
      "execution_count": null,
      "outputs": []
    },
    {
      "cell_type": "code",
      "source": [
        "d"
      ],
      "metadata": {
        "colab": {
          "base_uri": "https://localhost:8080/"
        },
        "id": "x3H1Z1JxNHJ0",
        "outputId": "501b63d0-9b32-4b5d-9df9-d27ac1bab699"
      },
      "execution_count": null,
      "outputs": [
        {
          "output_type": "execute_result",
          "data": {
            "text/plain": [
              "{'a': 4, 'b': [184, 4, 184], 'd': 18, 'e': 'chinnulucky'}"
            ]
          },
          "metadata": {},
          "execution_count": 22
        }
      ]
    },
    {
      "cell_type": "code",
      "source": [
        "d['b'].count"
      ],
      "metadata": {
        "colab": {
          "base_uri": "https://localhost:8080/"
        },
        "id": "fXWPjx-qNH4b",
        "outputId": "2012c90f-1b87-4407-adde-e787818002db"
      },
      "execution_count": null,
      "outputs": [
        {
          "output_type": "execute_result",
          "data": {
            "text/plain": [
              "<function list.count(value, /)>"
            ]
          },
          "metadata": {},
          "execution_count": 23
        }
      ]
    },
    {
      "cell_type": "code",
      "source": [
        "d['b'][2]"
      ],
      "metadata": {
        "colab": {
          "base_uri": "https://localhost:8080/"
        },
        "id": "RYpE2KGMNMIq",
        "outputId": "40743cc1-c59d-40ab-ebeb-611c0bf3364a"
      },
      "execution_count": null,
      "outputs": [
        {
          "output_type": "execute_result",
          "data": {
            "text/plain": [
              "184"
            ]
          },
          "metadata": {},
          "execution_count": 25
        }
      ]
    },
    {
      "cell_type": "code",
      "source": [],
      "metadata": {
        "id": "aCUvCmk1SR7G"
      },
      "execution_count": null,
      "outputs": []
    }
  ],
  "metadata": {
    "colab": {
      "provenance": [],
      "authorship_tag": "ABX9TyMxolW1Lou0EzSq6AJ64gb2",
      "include_colab_link": true
    },
    "kernelspec": {
      "display_name": "Python 3",
      "name": "python3"
    },
    "language_info": {
      "name": "python"
    }
  },
  "nbformat": 4,
  "nbformat_minor": 0
}